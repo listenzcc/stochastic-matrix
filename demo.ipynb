{
 "cells": [
  {
   "cell_type": "code",
   "execution_count": 1,
   "id": "eb3bb472",
   "metadata": {
    "ExecuteTime": {
     "end_time": "2023-10-09T02:01:05.334755Z",
     "start_time": "2023-10-09T02:01:05.257071Z"
    }
   },
   "outputs": [],
   "source": [
    "import numpy as np"
   ]
  },
  {
   "cell_type": "code",
   "execution_count": 2,
   "id": "590b03e8",
   "metadata": {
    "ExecuteTime": {
     "end_time": "2023-10-09T02:01:05.338610Z",
     "start_time": "2023-10-09T02:01:05.334755Z"
    }
   },
   "outputs": [],
   "source": [
    "def rnd_stochastic_matrix(rows=6, cols=6):\n",
    "    '''\n",
    "    The sum of each row equals to 1.0\n",
    "    '''\n",
    "    mat = np.random.rand(rows, cols)\n",
    "    \n",
    "    d = np.diag(np.sum(mat, axis=1))\n",
    "    d_inv = np.linalg.inv(d)\n",
    "    \n",
    "    return np.matmul(d_inv, mat)"
   ]
  },
  {
   "cell_type": "code",
   "execution_count": 3,
   "id": "5bb376f7",
   "metadata": {
    "ExecuteTime": {
     "end_time": "2023-10-09T02:01:05.350520Z",
     "start_time": "2023-10-09T02:01:05.339616Z"
    }
   },
   "outputs": [
    {
     "data": {
      "text/plain": [
       "array([[0.047682  , 0.35379221, 0.03198258, 0.09868565, 0.17938772,\n",
       "        0.28846984],\n",
       "       [0.08331928, 0.09794226, 0.11229339, 0.24693897, 0.24330942,\n",
       "        0.21619668],\n",
       "       [0.10735769, 0.091517  , 0.16964969, 0.21589715, 0.34276155,\n",
       "        0.07281693],\n",
       "       [0.09689984, 0.21769726, 0.15589551, 0.22584087, 0.04565322,\n",
       "        0.25801331],\n",
       "       [0.02073023, 0.17273324, 0.16090135, 0.14008035, 0.19410914,\n",
       "        0.31144568],\n",
       "       [0.26311293, 0.2819172 , 0.04584441, 0.18699847, 0.03872045,\n",
       "        0.18340655]])"
      ]
     },
     "execution_count": 3,
     "metadata": {},
     "output_type": "execute_result"
    }
   ],
   "source": [
    "mat = rnd_stochastic_matrix()\n",
    "mat"
   ]
  },
  {
   "cell_type": "code",
   "execution_count": 9,
   "id": "8bf200df",
   "metadata": {
    "ExecuteTime": {
     "end_time": "2023-10-09T02:10:12.670350Z",
     "start_time": "2023-10-09T02:10:12.665840Z"
    }
   },
   "outputs": [],
   "source": [
    "eig = np.linalg.eig(mat)"
   ]
  },
  {
   "cell_type": "code",
   "execution_count": 10,
   "id": "d84264f5",
   "metadata": {
    "ExecuteTime": {
     "end_time": "2023-10-09T02:10:32.220918Z",
     "start_time": "2023-10-09T02:10:32.216192Z"
    }
   },
   "outputs": [
    {
     "data": {
      "text/plain": [
       "array([ 1.        +0.j        , -0.19587185+0.j        ,\n",
       "       -0.07610412+0.12350006j, -0.07610412-0.12350006j,\n",
       "        0.17730299+0.j        ,  0.0894076 +0.j        ])"
      ]
     },
     "execution_count": 10,
     "metadata": {},
     "output_type": "execute_result"
    }
   ],
   "source": [
    "eig.eigenvalues"
   ]
  },
  {
   "cell_type": "code",
   "execution_count": 11,
   "id": "38df972e",
   "metadata": {
    "ExecuteTime": {
     "end_time": "2023-10-09T02:10:38.103966Z",
     "start_time": "2023-10-09T02:10:38.098862Z"
    }
   },
   "outputs": [
    {
     "data": {
      "text/plain": [
       "array([[ 0.40824829+0.j        , -0.43637637+0.j        ,\n",
       "         0.37142171+0.04612344j,  0.37142171-0.04612344j,\n",
       "        -0.32375941+0.j        ,  0.5229785 +0.j        ],\n",
       "       [ 0.40824829+0.j        ,  0.43467614+0.j        ,\n",
       "         0.02481156+0.42670367j,  0.02481156-0.42670367j,\n",
       "         0.1151909 +0.j        , -0.16927463+0.j        ],\n",
       "       [ 0.40824829+0.j        ,  0.5663551 +0.j        ,\n",
       "         0.47902085+0.j        ,  0.47902085-0.j        ,\n",
       "         0.78466134+0.j        , -0.18142144+0.j        ],\n",
       "       [ 0.40824829+0.j        , -0.37507839+0.j        ,\n",
       "        -0.32459493-0.07551821j, -0.32459493+0.07551821j,\n",
       "         0.07555409+0.j        , -0.676234  +0.j        ],\n",
       "       [ 0.40824829+0.j        , -0.37565106+0.j        ,\n",
       "        -0.26471393+0.19345593j, -0.26471393-0.19345593j,\n",
       "         0.14457056+0.j        ,  0.27216894+0.j        ],\n",
       "       [ 0.40824829+0.j        ,  0.13444961+0.j        ,\n",
       "         0.01299175-0.47857457j,  0.01299175+0.47857457j,\n",
       "        -0.48949813+0.j        ,  0.36545517+0.j        ]])"
      ]
     },
     "execution_count": 11,
     "metadata": {},
     "output_type": "execute_result"
    }
   ],
   "source": [
    "eig.eigenvectors"
   ]
  },
  {
   "cell_type": "code",
   "execution_count": null,
   "id": "4e9ebbf3",
   "metadata": {},
   "outputs": [],
   "source": []
  }
 ],
 "metadata": {
  "kernelspec": {
   "display_name": "Python 3 (ipykernel)",
   "language": "python",
   "name": "python3"
  },
  "language_info": {
   "codemirror_mode": {
    "name": "ipython",
    "version": 3
   },
   "file_extension": ".py",
   "mimetype": "text/x-python",
   "name": "python",
   "nbconvert_exporter": "python",
   "pygments_lexer": "ipython3",
   "version": "3.11.4"
  },
  "toc": {
   "base_numbering": 1,
   "nav_menu": {},
   "number_sections": true,
   "sideBar": true,
   "skip_h1_title": true,
   "title_cell": "Table of Contents",
   "title_sidebar": "Contents",
   "toc_cell": false,
   "toc_position": {},
   "toc_section_display": true,
   "toc_window_display": false
  }
 },
 "nbformat": 4,
 "nbformat_minor": 5
}
